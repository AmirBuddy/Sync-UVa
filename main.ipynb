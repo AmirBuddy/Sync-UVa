{
 "cells": [
  {
   "cell_type": "code",
   "execution_count": 1,
   "metadata": {},
   "outputs": [],
   "source": [
    "import os\n",
    "import requests\n",
    "from bs4 import BeautifulSoup"
   ]
  },
  {
   "cell_type": "code",
   "execution_count": 2,
   "metadata": {},
   "outputs": [],
   "source": [
    "session = requests.Session()\n",
    "login_url = 'https://onlinejudge.org/index.php?option=com_comprofiler&task=login'\n",
    "response = session.get(login_url)\n",
    "soup = BeautifulSoup(response.text, 'html.parser')"
   ]
  },
  {
   "cell_type": "code",
   "execution_count": 3,
   "metadata": {},
   "outputs": [],
   "source": [
    "form = soup.find('form', id='mod_loginform')\n",
    "hidden_inputs = form.find_all('input', type='hidden')\n",
    "form_data = {input.get('name'): input.get('value') for input in hidden_inputs}"
   ]
  },
  {
   "cell_type": "code",
   "execution_count": 4,
   "metadata": {},
   "outputs": [],
   "source": [
    "form_data['username'] = 'admin'\n",
    "form_data['passwd'] = 'admin'\n",
    "form_data['remember'] = 'yes'\n",
    "form_data['Submit'] = 'Login'"
   ]
  },
  {
   "cell_type": "code",
   "execution_count": 5,
   "metadata": {},
   "outputs": [],
   "source": [
    "login_response = session.post(form['action'], data=form_data)\n",
    "assert 'Logout' in login_response.text, 'Login failed!'"
   ]
  },
  {
   "cell_type": "code",
   "execution_count": 6,
   "metadata": {},
   "outputs": [],
   "source": [
    "category_url = 'https://onlinejudge.org/index.php?option=com_onlinejudge&Itemid=8&category=606'\n",
    "response = session.get(category_url)\n",
    "soup = BeautifulSoup(response.text, 'html.parser')\n",
    "\n",
    "categories = {\n",
    "    'Super Easy': '607',\n",
    "    'Easy': '608',\n",
    "    'Medium': '609'\n",
    "}\n",
    "\n",
    "category_links = {name: f\"https://onlinejudge.org/index.php?option=com_onlinejudge&Itemid=8&category={id}\" for name, id in categories.items()}\n"
   ]
  },
  {
   "cell_type": "code",
   "execution_count": 7,
   "metadata": {},
   "outputs": [
    {
     "name": "stdout",
     "output_type": "stream",
     "text": [
      "Super Easy\n",
      "TEX Quotes\n",
      "Celebrity jeopardy\n",
      "Combination Lock\n",
      "Searching for Nessy\n",
      "Relational Operator\n",
      "Parking\n",
      "Division of Nlogonia\n",
      "Automatic Answer\n",
      "Cost Cutting\n",
      "Language Detection\n",
      "Emoogle Balance\n",
      "One-Two-Three\n",
      "Packing for Holiday\n",
      "Save Setu\n",
      "Hajj-e-Akbar\n",
      "Easy\n",
      "Secret Research\n",
      "Loansome Car Buyer\n",
      "Ecological Premium\n",
      "The Swallowing Ground\n",
      "Summing Digits\n",
      "Event Planning\n",
      "Sub-prime\n",
      "Jumping Mario\n",
      "Horror Dash\n",
      "Lumberjack Sequencing\n",
      "Google is Feeling Lucky\n",
      "Tariff Plan\n",
      "Zapping\n",
      "Robot Instructions\n",
      "A Special \"Happy Birthday\" Song!!!\n",
      "Medium\n",
      "Greedy Gift Givers\n",
      "The Snail\n",
      "Blowing Fuses\n",
      "Request for Proposal\n",
      "Zeros and Ones\n",
      "Love Calculator\n",
      "Prerequisites?\n",
      "Bender B. RodrÃ­guez Problem\n",
      "Train Tracks\n",
      "Burger Time?\n",
      "Laser Sculpture\n",
      "Digits\n",
      "Brainfuck\n",
      "Hardest Problem Ever (Easy)\n"
     ]
    }
   ],
   "source": [
    "problem_data = {}\n",
    "\n",
    "for category, link in category_links.items():\n",
    "    response = session.get(link)\n",
    "    soup = BeautifulSoup(response.text, 'html.parser')\n",
    "    \n",
    "    problems = soup.find_all('a', href=True)\n",
    "    \n",
    "    print(category)\n",
    "    problem_data[category] = []\n",
    "    for a in problems:\n",
    "        if 'problem' in a['href']:\n",
    "            problem_url = f\"https://onlinejudge.org{a['href']}\"\n",
    "            problem_name_full = a.text.strip()\n",
    "            problem_name = problem_name_full.split(' - ')[1]\n",
    "            problem_id = problem_url.split('problem=')[1]\n",
    "            problem_data[category].append((problem_name, problem_url, problem_id))\n",
    "            print(problem_name)\n"
   ]
  },
  {
   "cell_type": "code",
   "execution_count": 12,
   "metadata": {},
   "outputs": [
    {
     "name": "stdout",
     "output_type": "stream",
     "text": [
      "Successfully submitted solution for problem TEX Quotes\n",
      "Successfully submitted solution for problem Celebrity jeopardy\n",
      "Successfully submitted solution for problem Combination Lock\n",
      "Successfully submitted solution for problem Searching for Nessy\n",
      "Successfully submitted solution for problem Relational Operator\n",
      "Successfully submitted solution for problem Parking\n",
      "Successfully submitted solution for problem Division of Nlogonia\n",
      "Successfully submitted solution for problem Automatic Answer\n",
      "Successfully submitted solution for problem Cost Cutting\n",
      "Successfully submitted solution for problem Language Detection\n",
      "Successfully submitted solution for problem Emoogle Balance\n",
      "Successfully submitted solution for problem One-Two-Three\n",
      "Successfully submitted solution for problem Packing for Holiday\n",
      "Successfully submitted solution for problem Save Setu\n",
      "Successfully submitted solution for problem Hajj-e-Akbar\n",
      "Successfully submitted solution for problem Secret Research\n",
      "Successfully submitted solution for problem Loansome Car Buyer\n",
      "Successfully submitted solution for problem Ecological Premium\n",
      "Successfully submitted solution for problem The Swallowing Ground\n",
      "Successfully submitted solution for problem Summing Digits\n",
      "Successfully submitted solution for problem Event Planning\n",
      "Successfully submitted solution for problem Sub-prime\n",
      "Successfully submitted solution for problem Jumping Mario\n",
      "Successfully submitted solution for problem Horror Dash\n",
      "Successfully submitted solution for problem Lumberjack Sequencing\n",
      "Successfully submitted solution for problem Google is Feeling Lucky\n",
      "Successfully submitted solution for problem Tariff Plan\n",
      "Successfully submitted solution for problem Zapping\n",
      "Successfully submitted solution for problem Robot Instructions\n",
      "Successfully submitted solution for problem A Special \"Happy Birthday\" Song!!!\n",
      "Successfully submitted solution for problem Greedy Gift Givers\n",
      "Successfully submitted solution for problem The Snail\n",
      "Successfully submitted solution for problem Blowing Fuses\n",
      "Successfully submitted solution for problem Train Tracks\n"
     ]
    }
   ],
   "source": [
    "base_folder = 'Getting Started: The Easy Problems'\n",
    "\n",
    "for category, problems in problem_data.items():\n",
    "    category_folder = os.path.join(base_folder, category)\n",
    "    for problem_name, problem_url, problem_id in problems:\n",
    "        problem_folder = os.path.join(category_folder, problem_name)\n",
    "        \n",
    "        if not os.path.exists(problem_folder):\n",
    "            continue\n",
    "\n",
    "        # Find the .cpp file in the problem's folder\n",
    "        solution_file = None\n",
    "        for file in os.listdir(problem_folder):\n",
    "            if file.endswith('.cpp'):\n",
    "                solution_file = os.path.join(problem_folder, file)\n",
    "                break\n",
    "        \n",
    "        if solution_file and os.path.exists(solution_file):\n",
    "            # Read the solution file\n",
    "            with open(solution_file, 'r') as file:\n",
    "                solution_code = file.read()\n",
    "                \n",
    "            # Navigate to the problem submission page\n",
    "            submission_url = f\"https://onlinejudge.org/index.php?option=com_onlinejudge&Itemid=8&page=submit_problem&problemid={problem_id}&category=0\"\n",
    "            submission_response = session.get(submission_url)\n",
    "            submission_soup = BeautifulSoup(submission_response.text, 'html.parser')\n",
    "            \n",
    "            # Find the submission form and extract necessary fields\n",
    "            form = submission_soup.find('form', {'action': 'index.php?option=com_onlinejudge&Itemid=8&page=save_submission'})\n",
    "            form_data = {input.get('name'): input.get('value') for input in form.find_all('input', type='hidden')}\n",
    "            \n",
    "            form_data['language'] = '5'\n",
    "            form_data['code'] = solution_code\n",
    "            \n",
    "            # Submit the solution\n",
    "            submit_url = 'https://onlinejudge.org/index.php?option=com_onlinejudge&Itemid=8&page=save_submission'\n",
    "            submission_response = session.post(submit_url, data=form_data)\n",
    "            \n",
    "            print(f\"Successfully submitted solution for problem {problem_name}\")\n"
   ]
  }
 ],
 "metadata": {
  "kernelspec": {
   "display_name": "env",
   "language": "python",
   "name": "python3"
  },
  "language_info": {
   "codemirror_mode": {
    "name": "ipython",
    "version": 3
   },
   "file_extension": ".py",
   "mimetype": "text/x-python",
   "name": "python",
   "nbconvert_exporter": "python",
   "pygments_lexer": "ipython3",
   "version": "3.10.12"
  }
 },
 "nbformat": 4,
 "nbformat_minor": 2
}

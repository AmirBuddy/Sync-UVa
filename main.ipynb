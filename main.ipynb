{
 "cells": [
  {
   "cell_type": "code",
   "execution_count": 36,
   "metadata": {},
   "outputs": [],
   "source": [
    "import os\n",
    "import requests\n",
    "from bs4 import BeautifulSoup\n",
    "import pandas as pd"
   ]
  },
  {
   "cell_type": "code",
   "execution_count": 37,
   "metadata": {},
   "outputs": [],
   "source": [
    "session = requests.Session()\n",
    "login_url = 'https://onlinejudge.org/index.php?option=com_comprofiler&task=login'\n",
    "response = session.get(login_url)\n",
    "soup = BeautifulSoup(response.text, 'html.parser')"
   ]
  },
  {
   "cell_type": "code",
   "execution_count": 38,
   "metadata": {},
   "outputs": [],
   "source": [
    "form = soup.find('form', id='mod_loginform')\n",
    "hidden_inputs = form.find_all('input', type='hidden')\n",
    "form_data = {input.get('name'): input.get('value') for input in hidden_inputs}"
   ]
  },
  {
   "cell_type": "code",
   "execution_count": 39,
   "metadata": {},
   "outputs": [],
   "source": [
    "form_data['username'] = 'ToxicArcher'\n",
    "form_data['passwd'] = '123456789'\n",
    "form_data['remember'] = 'yes'\n",
    "form_data['Submit'] = 'Login'"
   ]
  },
  {
   "cell_type": "code",
   "execution_count": 40,
   "metadata": {},
   "outputs": [],
   "source": [
    "login_response = session.post(form['action'], data=form_data)\n",
    "assert 'Logout' in login_response.text, 'Login failed!'"
   ]
  },
  {
   "cell_type": "code",
   "execution_count": 41,
   "metadata": {},
   "outputs": [],
   "source": [
    "category_url = 'https://onlinejudge.org/index.php?option=com_onlinejudge&Itemid=8&category=606'\n",
    "response = session.get(category_url)\n",
    "soup = BeautifulSoup(response.text, 'html.parser')\n",
    "\n",
    "categories = {\n",
    "    'Super Easy': '607',\n",
    "    'Easy': '608',\n",
    "    'Medium': '609'\n",
    "}\n",
    "\n",
    "category_links = {name: f\"https://onlinejudge.org/index.php?option=com_onlinejudge&Itemid=8&category={id}\" for name, id in categories.items()}\n"
   ]
  },
  {
   "cell_type": "code",
   "execution_count": 52,
   "metadata": {},
   "outputs": [
    {
     "name": "stdout",
     "output_type": "stream",
     "text": [
      "\n",
      "Super Easy:\n",
      "TEX Quotes\n",
      "Celebrity jeopardy\n",
      "Combination Lock\n",
      "Searching for Nessy\n",
      "Relational Operator\n",
      "Parking\n",
      "Division of Nlogonia\n",
      "Automatic Answer\n",
      "Cost Cutting\n",
      "Language Detection\n",
      "Emoogle Balance\n",
      "One-Two-Three\n",
      "Packing for Holiday\n",
      "Save Setu\n",
      "Hajj-e-Akbar\n",
      "\n",
      "Easy:\n",
      "Secret Research\n",
      "Loansome Car Buyer\n",
      "Ecological Premium\n",
      "The Swallowing Ground\n",
      "Summing Digits\n",
      "Event Planning\n",
      "Sub-prime\n",
      "Jumping Mario\n",
      "Horror Dash\n",
      "Lumberjack Sequencing\n",
      "Google is Feeling Lucky\n",
      "Tariff Plan\n",
      "Zapping\n",
      "Robot Instructions\n",
      "A Special \"Happy Birthday\" Song!!!\n",
      "\n",
      "Medium:\n",
      "Greedy Gift Givers\n",
      "The Snail\n",
      "Blowing Fuses\n",
      "Request for Proposal\n",
      "Zeros and Ones\n",
      "Love Calculator\n",
      "Prerequisites?\n",
      "Bender B. RodrÃ­guez Problem\n",
      "Train Tracks\n",
      "Burger Time?\n",
      "Laser Sculpture\n",
      "Digits\n",
      "Brainfuck\n",
      "Hardest Problem Ever (Easy)\n"
     ]
    }
   ],
   "source": [
    "problem_data = {}\n",
    "\n",
    "for category, link in category_links.items():\n",
    "    response = session.get(link)\n",
    "    soup = BeautifulSoup(response.text, 'html.parser')\n",
    "    \n",
    "    problems = soup.find_all('a', href=True)\n",
    "    \n",
    "    print(f'\\n{category}:')\n",
    "    problem_data[category] = []\n",
    "    for a in problems:\n",
    "        if 'problem' in a['href']:\n",
    "            problem_url = f\"https://onlinejudge.org{a['href']}\"\n",
    "            problem_name_full = a.text.strip()\n",
    "            problem_name = problem_name_full.split(' - ')[1]\n",
    "            print(problem_name)\n",
    "            problem_data[category].append((problem_name, problem_url))"
   ]
  },
  {
   "cell_type": "code",
   "execution_count": null,
   "metadata": {},
   "outputs": [],
   "source": [
    "base_folder = 'Getting Started: The Easy Problems'\n",
    "\n",
    "for category, problems in problem_data.items():\n",
    "    category_folder = os.path.join(base_folder, category)\n",
    "    for problem_name, problem_link in problems:\n",
    "        problem_id = problem_link.split('=')[-1]  # Assuming the ID is at the end of the URL\n",
    "        solution_file = os.path.join(category_folder, f\"{problem_name}.py\")  # Adjust file extension if necessary\n",
    "        \n",
    "        if os.path.exists(solution_file):\n",
    "            with open(solution_file, 'r') as file:\n",
    "                solution_code = file.read()\n",
    "                \n",
    "            problem_response = session.get(problem_link)\n",
    "            problem_soup = BeautifulSoup(problem_response.text, 'html.parser')\n",
    "            \n",
    "            form = problem_soup.find('form', {'id': 'problem_submission_form'})\n",
    "            form_data = {input.get('name'): input.get('value') for input in form.find_all('input', type='hidden')}\n",
    "            \n",
    "            form_data['code'] = solution_code\n",
    "            form_data['language'] = '5'  # Adjust based on actual language code\n",
    "            \n",
    "            submission_url = form['action']\n",
    "            submission_response = session.post(submission_url, data=form_data)\n",
    "            \n",
    "            if 'Submission received' in submission_response.text:\n",
    "                print(f\"Successfully submitted solution for problem {problem_name}\")\n",
    "            else:\n",
    "                print(f\"Failed to submit solution for problem {problem_name}\")\n"
   ]
  }
 ],
 "metadata": {
  "kernelspec": {
   "display_name": "env",
   "language": "python",
   "name": "python3"
  },
  "language_info": {
   "codemirror_mode": {
    "name": "ipython",
    "version": 3
   },
   "file_extension": ".py",
   "mimetype": "text/x-python",
   "name": "python",
   "nbconvert_exporter": "python",
   "pygments_lexer": "ipython3",
   "version": "3.10.12"
  }
 },
 "nbformat": 4,
 "nbformat_minor": 2
}
